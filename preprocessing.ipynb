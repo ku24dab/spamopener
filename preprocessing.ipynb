{
 "cells": [
  {
   "cell_type": "code",
   "execution_count": 5,
   "metadata": {},
   "outputs": [
    {
     "data": {
      "text/html": [
       "<div>\n",
       "<style scoped>\n",
       "    .dataframe tbody tr th:only-of-type {\n",
       "        vertical-align: middle;\n",
       "    }\n",
       "\n",
       "    .dataframe tbody tr th {\n",
       "        vertical-align: top;\n",
       "    }\n",
       "\n",
       "    .dataframe thead th {\n",
       "        text-align: right;\n",
       "    }\n",
       "</style>\n",
       "<table border=\"1\" class=\"dataframe\">\n",
       "  <thead>\n",
       "    <tr style=\"text-align: right;\">\n",
       "      <th></th>\n",
       "      <th>id</th>\n",
       "      <th>message</th>\n",
       "      <th>date</th>\n",
       "    </tr>\n",
       "  </thead>\n",
       "  <tbody>\n",
       "    <tr>\n",
       "      <th>0</th>\n",
       "      <td>80341</td>\n",
       "      <td>[국제발신]정싸 가입E붼트*+* *+* **+* **+** ***+**미곔 먜**%...</td>\n",
       "      <td>20220725</td>\n",
       "    </tr>\n",
       "    <tr>\n",
       "      <th>1</th>\n",
       "      <td>80342</td>\n",
       "      <td>[국제발신]Hil튼*+*** ~ ***ⓗs-ⓤ*.com열소l  ****캍옥  CDDC*</td>\n",
       "      <td>20220725</td>\n",
       "    </tr>\n",
       "    <tr>\n",
       "      <th>2</th>\n",
       "      <td>80343</td>\n",
       "      <td>(광고)[정선생의 정보 제공 커뮤니티]안녕하십니까정진홍 주식전문가입니다.미국에서 인...</td>\n",
       "      <td>20220725</td>\n",
       "    </tr>\n",
       "    <tr>\n",
       "      <th>3</th>\n",
       "      <td>80344</td>\n",
       "      <td>[Web발신]비번 : ****bit.ly/*wBU*inv.i.p 주식 세력 단타 *...</td>\n",
       "      <td>20220725</td>\n",
       "    </tr>\n",
       "    <tr>\n",
       "      <th>4</th>\n",
       "      <td>80345</td>\n",
       "      <td>*,***,***원 으로원금보장+지원금 **,***,***원 마감문의하기 xxpea...</td>\n",
       "      <td>20220725</td>\n",
       "    </tr>\n",
       "  </tbody>\n",
       "</table>\n",
       "</div>"
      ],
      "text/plain": [
       "      id                                            message      date\n",
       "0  80341  [국제발신]정싸 가입E붼트*+* *+* **+* **+** ***+**미곔 먜**%...  20220725\n",
       "1  80342   [국제발신]Hil튼*+*** ~ ***ⓗs-ⓤ*.com열소l  ****캍옥  CDDC*  20220725\n",
       "2  80343  (광고)[정선생의 정보 제공 커뮤니티]안녕하십니까정진홍 주식전문가입니다.미국에서 인...  20220725\n",
       "3  80344  [Web발신]비번 : ****bit.ly/*wBU*inv.i.p 주식 세력 단타 *...  20220725\n",
       "4  80345  *,***,***원 으로원금보장+지원금 **,***,***원 마감문의하기 xxpea...  20220725"
      ]
     },
     "execution_count": 5,
     "metadata": {},
     "output_type": "execute_result"
    }
   ],
   "source": [
    "import pandas as pd\n",
    "import glob\n",
    "\n",
    "file_list = glob.glob('data/*.csv')\n",
    "df = pd.read_csv(file_list[-1], names=['id','message'])\n",
    "df['date'] = file_list[0].split('_')[2]\n",
    "df['message'] = df['message'].apply(lambda x: x.replace('ifg@', ''))\n",
    "df.head()\n"
   ]
  },
  {
   "cell_type": "code",
   "execution_count": 6,
   "metadata": {},
   "outputs": [
    {
     "ename": "IndexError",
     "evalue": "list index out of range",
     "output_type": "error",
     "traceback": [
      "\u001b[0;31m---------------------------------------------------------------------------\u001b[0m",
      "\u001b[0;31mIndexError\u001b[0m                                Traceback (most recent call last)",
      "Cell \u001b[0;32mIn[6], line 8\u001b[0m\n\u001b[1;32m      6\u001b[0m \u001b[39mfor\u001b[39;00m file \u001b[39min\u001b[39;00m file_list:\n\u001b[1;32m      7\u001b[0m     df \u001b[39m=\u001b[39m pd\u001b[39m.\u001b[39mread_csv(file, names\u001b[39m=\u001b[39m[\u001b[39m'\u001b[39m\u001b[39mid\u001b[39m\u001b[39m'\u001b[39m, \u001b[39m'\u001b[39m\u001b[39mmessage\u001b[39m\u001b[39m'\u001b[39m])\n\u001b[0;32m----> 8\u001b[0m     df[\u001b[39m'\u001b[39m\u001b[39mdate\u001b[39m\u001b[39m'\u001b[39m] \u001b[39m=\u001b[39m file\u001b[39m.\u001b[39;49msplit(\u001b[39m'\u001b[39;49m\u001b[39m_\u001b[39;49m\u001b[39m'\u001b[39;49m)[\u001b[39m2\u001b[39;49m]\n\u001b[1;32m      9\u001b[0m     df[\u001b[39m'\u001b[39m\u001b[39mmessage\u001b[39m\u001b[39m'\u001b[39m] \u001b[39m=\u001b[39m df[\u001b[39m'\u001b[39m\u001b[39mmessage\u001b[39m\u001b[39m'\u001b[39m]\u001b[39m.\u001b[39mapply(\u001b[39mlambda\u001b[39;00m x: x\u001b[39m.\u001b[39mreplace(\u001b[39m'\u001b[39m\u001b[39mifg@\u001b[39m\u001b[39m'\u001b[39m, \u001b[39m'\u001b[39m\u001b[39m'\u001b[39m))\n\u001b[1;32m     10\u001b[0m     df_sample \u001b[39m=\u001b[39m df\u001b[39m.\u001b[39msample(n\u001b[39m=\u001b[39m\u001b[39m100\u001b[39m, random_state\u001b[39m=\u001b[39m\u001b[39m1234\u001b[39m)  \u001b[39m# 무작위로 1000개만 생성\u001b[39;00m\n",
      "\u001b[0;31mIndexError\u001b[0m: list index out of range"
     ]
    }
   ],
   "source": [
    "import pandas as pd\n",
    "import glob\n",
    "\n",
    "file_list = glob.glob('data/*.csv')\n",
    "df_list = []\n",
    "for file in file_list:\n",
    "    df = pd.read_csv(file, names=['id', 'message'])\n",
    "    df['date'] = file.split('_')[2]\n",
    "    df['message'] = df['message'].apply(lambda x: x.replace('ifg@', ''))\n",
    "    df_sample = df.sample(n=100, random_state=1234)  # 무작위로 1000개만 생성\n",
    "    df_list.append(df_sample)\n",
    "\n",
    "final_df = pd.concat(df_list, ignore_index=True)\n",
    "final_df.head()\n",
    "final_df.to_csv('data/data.csv', index=False)"
   ]
  },
  {
   "cell_type": "code",
   "execution_count": null,
   "metadata": {},
   "outputs": [],
   "source": []
  }
 ],
 "metadata": {
  "kernelspec": {
   "display_name": "Python 3.10.14 ('.dab_venv': venv)",
   "language": "python",
   "name": "python3"
  },
  "language_info": {
   "codemirror_mode": {
    "name": "ipython",
    "version": 3
   },
   "file_extension": ".py",
   "mimetype": "text/x-python",
   "name": "python",
   "nbconvert_exporter": "python",
   "pygments_lexer": "ipython3",
   "version": "3.10.14"
  },
  "orig_nbformat": 4,
  "vscode": {
   "interpreter": {
    "hash": "29caa077e1a3e3b995fb522c864ed06b3e7e780bce2b26efb48e110e279ef182"
   }
  }
 },
 "nbformat": 4,
 "nbformat_minor": 2
}
