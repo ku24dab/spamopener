{
 "cells": [
  {
   "cell_type": "code",
   "execution_count": 10,
   "metadata": {},
   "outputs": [],
   "source": [
    "import pandas as pd\n",
    "import glob\n",
    "\n",
    "file_list = glob.glob('data/*001.csv')\n",
    "df_list = []\n",
    "for file in file_list:\n",
    "    df = pd.read_csv(file, names=['id', 'message'])\n",
    "    df['date'] = file.split('_')[2]\n",
    "    df['message'] = df['message'].apply(lambda x: x.replace('ifg@', ''))\n",
    "    df_sample = df.sample(n=1000, random_state=1234)  # 무작위로 1000개만 생성\n",
    "    df_list.append(df_sample)\n",
    "\n",
    "final_df = pd.concat(df_list, ignore_index=True)\n",
    "final_df.head()\n",
    "final_df.to_csv('data/data.csv', index=False)"
   ]
  },
  {
   "cell_type": "code",
   "execution_count": 11,
   "metadata": {},
   "outputs": [
    {
     "data": {
      "text/html": [
       "<div>\n",
       "<style scoped>\n",
       "    .dataframe tbody tr th:only-of-type {\n",
       "        vertical-align: middle;\n",
       "    }\n",
       "\n",
       "    .dataframe tbody tr th {\n",
       "        vertical-align: top;\n",
       "    }\n",
       "\n",
       "    .dataframe thead th {\n",
       "        text-align: right;\n",
       "    }\n",
       "</style>\n",
       "<table border=\"1\" class=\"dataframe\">\n",
       "  <thead>\n",
       "    <tr style=\"text-align: right;\">\n",
       "      <th></th>\n",
       "      <th>id</th>\n",
       "      <th>message</th>\n",
       "      <th>date</th>\n",
       "    </tr>\n",
       "  </thead>\n",
       "  <tbody>\n",
       "    <tr>\n",
       "      <th>0</th>\n",
       "      <td>7776</td>\n",
       "      <td>[국제발신]듀&gt;#가입선물⚽️버거 커피⚽️*만#상시⚽️포인트, 피자카 kt*** 텔 ...</td>\n",
       "      <td>20220725</td>\n",
       "    </tr>\n",
       "    <tr>\n",
       "      <th>1</th>\n",
       "      <td>5567</td>\n",
       "      <td>[국제발신]NO*TV 제휴안내잠뱃ＪB-****.COMCODE: NT**쳣②*,먜**...</td>\n",
       "      <td>20220725</td>\n",
       "    </tr>\n",
       "    <tr>\n",
       "      <th>2</th>\n",
       "      <td>1130</td>\n",
       "      <td>[국제발신]증권사 인증 없이 종목별, 매수평단가 진단 **회 제공, 샘플보시고 신청...</td>\n",
       "      <td>20220725</td>\n",
       "    </tr>\n",
       "    <tr>\n",
       "      <th>3</th>\n",
       "      <td>2059</td>\n",
       "      <td>[국외발신]스마일 경마 정시마감 상한가 ****만한경삼쌍 가능차감지급없음 smr**...</td>\n",
       "      <td>20220725</td>\n",
       "    </tr>\n",
       "    <tr>\n",
       "      <th>4</th>\n",
       "      <td>3438</td>\n",
       "      <td>[국제발신]*╉* *+* **+* **+***╉** **+** ***+**ⓑi-ⓒⓑ...</td>\n",
       "      <td>20220725</td>\n",
       "    </tr>\n",
       "  </tbody>\n",
       "</table>\n",
       "</div>"
      ],
      "text/plain": [
       "     id                                            message      date\n",
       "0  7776  [국제발신]듀>#가입선물⚽️버거 커피⚽️*만#상시⚽️포인트, 피자카 kt*** 텔 ...  20220725\n",
       "1  5567  [국제발신]NO*TV 제휴안내잠뱃ＪB-****.COMCODE: NT**쳣②*,먜**...  20220725\n",
       "2  1130  [국제발신]증권사 인증 없이 종목별, 매수평단가 진단 **회 제공, 샘플보시고 신청...  20220725\n",
       "3  2059  [국외발신]스마일 경마 정시마감 상한가 ****만한경삼쌍 가능차감지급없음 smr**...  20220725\n",
       "4  3438  [국제발신]*╉* *+* **+* **+***╉** **+** ***+**ⓑi-ⓒⓑ...  20220725"
      ]
     },
     "execution_count": 11,
     "metadata": {},
     "output_type": "execute_result"
    }
   ],
   "source": [
    "df = pd.read_csv('data/data.csv')\n",
    "df.head()"
   ]
  },
  {
   "cell_type": "code",
   "execution_count": 12,
   "metadata": {},
   "outputs": [
    {
     "data": {
      "text/html": [
       "<div>\n",
       "<style scoped>\n",
       "    .dataframe tbody tr th:only-of-type {\n",
       "        vertical-align: middle;\n",
       "    }\n",
       "\n",
       "    .dataframe tbody tr th {\n",
       "        vertical-align: top;\n",
       "    }\n",
       "\n",
       "    .dataframe thead th {\n",
       "        text-align: right;\n",
       "    }\n",
       "</style>\n",
       "<table border=\"1\" class=\"dataframe\">\n",
       "  <thead>\n",
       "    <tr style=\"text-align: right;\">\n",
       "      <th></th>\n",
       "      <th>date</th>\n",
       "      <th>min</th>\n",
       "      <th>max</th>\n",
       "      <th>mean</th>\n",
       "    </tr>\n",
       "  </thead>\n",
       "  <tbody>\n",
       "    <tr>\n",
       "      <th>0</th>\n",
       "      <td>20220725</td>\n",
       "      <td>9</td>\n",
       "      <td>199</td>\n",
       "      <td>57.974</td>\n",
       "    </tr>\n",
       "    <tr>\n",
       "      <th>1</th>\n",
       "      <td>20220825</td>\n",
       "      <td>13</td>\n",
       "      <td>204</td>\n",
       "      <td>59.387</td>\n",
       "    </tr>\n",
       "    <tr>\n",
       "      <th>2</th>\n",
       "      <td>20220927</td>\n",
       "      <td>20</td>\n",
       "      <td>887</td>\n",
       "      <td>64.361</td>\n",
       "    </tr>\n",
       "    <tr>\n",
       "      <th>3</th>\n",
       "      <td>20221024</td>\n",
       "      <td>12</td>\n",
       "      <td>1125</td>\n",
       "      <td>144.691</td>\n",
       "    </tr>\n",
       "    <tr>\n",
       "      <th>4</th>\n",
       "      <td>20221125</td>\n",
       "      <td>12</td>\n",
       "      <td>2210</td>\n",
       "      <td>147.848</td>\n",
       "    </tr>\n",
       "    <tr>\n",
       "      <th>5</th>\n",
       "      <td>20230113</td>\n",
       "      <td>15</td>\n",
       "      <td>2243</td>\n",
       "      <td>99.774</td>\n",
       "    </tr>\n",
       "    <tr>\n",
       "      <th>6</th>\n",
       "      <td>20230312</td>\n",
       "      <td>17</td>\n",
       "      <td>1141</td>\n",
       "      <td>96.517</td>\n",
       "    </tr>\n",
       "    <tr>\n",
       "      <th>7</th>\n",
       "      <td>20230517</td>\n",
       "      <td>18</td>\n",
       "      <td>2510</td>\n",
       "      <td>167.052</td>\n",
       "    </tr>\n",
       "  </tbody>\n",
       "</table>\n",
       "</div>"
      ],
      "text/plain": [
       "       date  min   max     mean\n",
       "0  20220725    9   199   57.974\n",
       "1  20220825   13   204   59.387\n",
       "2  20220927   20   887   64.361\n",
       "3  20221024   12  1125  144.691\n",
       "4  20221125   12  2210  147.848\n",
       "5  20230113   15  2243   99.774\n",
       "6  20230312   17  1141   96.517\n",
       "7  20230517   18  2510  167.052"
      ]
     },
     "execution_count": 12,
     "metadata": {},
     "output_type": "execute_result"
    }
   ],
   "source": [
    "df['message_length'] = df['message'].apply(len)\n",
    "df.groupby('date')['message_length'].agg(['min', 'max', 'mean']).reset_index()"
   ]
  },
  {
   "cell_type": "code",
   "execution_count": 13,
   "metadata": {},
   "outputs": [
    {
     "data": {
      "image/png": "[encoded data removed]",
      "text/plain": [
       "<Figure size 1000x300 with 1 Axes>"
      ]
     },
     "metadata": {},
     "output_type": "display_data"
    }
   ],
   "source": [
    "import matplotlib.pyplot as plt\n",
    "\n",
    "plt.figure(figsize=(10, 3))\n",
    "plt.plot(df['message_length'])\n",
    "plt.title('Message Length by Date')\n",
    "plt.xlabel('Date')\n",
    "plt.ylabel('Message Length')\n",
    "plt.show()"
   ]
  },
  {
   "cell_type": "code",
   "execution_count": 14,
   "metadata": {},
   "outputs": [],
   "source": [
    "import numpy as np\n",
    "\n",
    "date_list = df['date'].unique().tolist()\n",
    "for date in date_list:\n",
    "    filtered_df = df[(df['date'] == date) & (df['message'].str.len() >= 50) & (df['message'].str.len() <= 200)]\n",
    "    \n",
    "    if len(filtered_df) > 100:\n",
    "        filtered_df = filtered_df.sample(n=100, random_state=np.random.randint(1000))\n",
    "    \n",
    "    filtered_messages = filtered_df['message'].to_list()\n",
    "    if filtered_messages:\n",
    "        globals()[f'message_{date}'] = filtered_messages"
   ]
  },
  {
   "cell_type": "code",
   "execution_count": 15,
   "metadata": {},
   "outputs": [],
   "source": [
    "import re\n",
    "\n",
    "def remove_special_characters(text):\n",
    "    return re.sub(r'[^a-zA-Z0-9가-힣\\s.,!]', '', text)\n",
    "\n",
    "for date in date_list:\n",
    "    globals()[f'message_{date}_text'] = ''\n",
    "    \n",
    "    messages = globals()[f'message_{date}']\n",
    "    half_index = len(messages) // 2  \n",
    "\n",
    "    for i, m in enumerate(messages):\n",
    "        if i < half_index:\n",
    "            clean_message = remove_special_characters(m)\n",
    "            globals()[f'message_{date}_text'] += '<문자시작> ' + clean_message + ' <문자끝>\\n'\n",
    "        else:\n",
    "            globals()[f'message_{date}_text'] += '<문자시작> ' + m + ' <문자끝>\\n'"
   ]
  },
  {
   "cell_type": "code",
   "execution_count": 16,
   "metadata": {},
   "outputs": [],
   "source": [
    "file_path = \"spam_text.txt\"\n",
    "with open(file_path, \"w\") as file:\n",
    "    file.write(message_20230312_text)"
   ]
  },
  {
   "cell_type": "code",
   "execution_count": 20,
   "metadata": {},
   "outputs": [],
   "source": [
    "for date in date_list:\n",
    "    file_path = \"txt/spam_\"+str(date)+'.txt' \n",
    "    with open(file_path, \"w\") as file:\n",
    "        file.write(globals()[f'message_{date}_text'])"
   ]
  }
 ],
 "metadata": {
  "kernelspec": {
   "display_name": "Python 3.12.7 64-bit",
   "language": "python",
   "name": "python3"
  },
  "language_info": {
   "codemirror_mode": {
    "name": "ipython",
    "version": 3
   },
   "file_extension": ".py",
   "mimetype": "text/x-python",
   "name": "python",
   "nbconvert_exporter": "python",
   "pygments_lexer": "ipython3",
   "version": "3.12.7"
  },
  "orig_nbformat": 4,
  "vscode": {
   "interpreter": {
    "hash": "b0fa6594d8f4cbf19f97940f81e996739fb7646882a419484c72d19e05852a7e"
   }
  }
 },
 "nbformat": 4,
 "nbformat_minor": 2
}
